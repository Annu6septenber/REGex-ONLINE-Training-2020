{
 "cells": [
  {
   "cell_type": "code",
   "execution_count": null,
   "metadata": {},
   "outputs": [],
   "source": [
    "#Ques 1\n",
    "'''\n",
    " CPython is the original implementation, written in C.\n",
    " JPython is the same language (Python), but implemented using Java.\n",
    "'''\n",
    "\n",
    "#Ques 2\n",
    "'''\n",
    "the print keyword in Python 2 is replaced by the print() function in Python 3.\n",
    "In Python 3, the range function now does what xrange does in Python 2\n",
    "In Python 2, implicit str type is ASCII. But in Python 3, implicit str type is Unicode.\n",
    "'''\n",
    "\n",
    "#Ques 3\n",
    "'''\n",
    "ASCII originally used seven bits to encode each character.\n",
    "On the other hand, Unicode uses a variable bit encoding program where you can choose between 32, 16, and 8-bit encodings.\n",
    "'''"
   ]
  }
 ],
 "metadata": {
  "kernelspec": {
   "display_name": "Python 3",
   "language": "python",
   "name": "python3"
  },
  "language_info": {
   "codemirror_mode": {
    "name": "ipython",
    "version": 3
   },
   "file_extension": ".py",
   "mimetype": "text/x-python",
   "name": "python",
   "nbconvert_exporter": "python",
   "pygments_lexer": "ipython3",
   "version": "3.7.6"
  }
 },
 "nbformat": 4,
 "nbformat_minor": 4
}

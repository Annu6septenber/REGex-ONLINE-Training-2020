{
 "cells": [
  {
   "cell_type": "code",
   "execution_count": 2,
   "metadata": {},
   "outputs": [
    {
     "name": "stdout",
     "output_type": "stream",
     "text": [
      "['G', 'R', 'K', 'G', 'M', 'M']\n"
     ]
    }
   ],
   "source": [
    "#Q1\n",
    "LIST_STATES = [\"GOA\",\"RAJASTHAN\",\"KARNATAKA\",\"GUJRAT\",\"MANIPUR\",\"MADHYA PRADESH\"]\n",
    "ll=[]\n",
    "for i in LIST_STATES:\n",
    "    j=i\n",
    "    a=j[0]\n",
    "    ll.append(a)\n",
    "print(ll)"
   ]
  },
  {
   "cell_type": "code",
   "execution_count": 5,
   "metadata": {},
   "outputs": [
    {
     "name": "stdout",
     "output_type": "stream",
     "text": [
      "[446, 960, 1570, 2189, 2881]\n"
     ]
    }
   ],
   "source": [
    "#Q2\n",
    "LIST=['GAnga', 'Tapti', 'Kaveri', 'Yamuna', 'Narmada' ]\n",
    "sm=0\n",
    "b=0\n",
    "for i in LIST:\n",
    "    for j in i:\n",
    "        sm=sm+ord(j)\n",
    "        LIST[b]=sm\n",
    "    b=b+1\n",
    "print(LIST)  "
   ]
  },
  {
   "cell_type": "code",
   "execution_count": 6,
   "metadata": {},
   "outputs": [],
   "source": [
    "#Q3\n",
    "import datetime\n",
    "x=datetime.datetime.now()\n",
    "x=str(x)\n",
    "x.split(\" \")\n",
    "if '2020-04-14'==x[0]:\n",
    "    if '09:00:00'==x[1]:\n",
    "        a=int(input(\"enter a number\"))\n",
    "        b=int(input(\"enter other number\"))\n",
    "        print(a+b)\n",
    "        "
   ]
  },
  {
   "cell_type": "code",
   "execution_count": 24,
   "metadata": {},
   "outputs": [
    {
     "name": "stdout",
     "output_type": "stream",
     "text": [
      "('a', 'l', 'g', 'o', 'r', 'i', 't', 'h', 'm')\n"
     ]
    },
    {
     "ename": "TypeError",
     "evalue": "'list' object is not callable",
     "output_type": "error",
     "traceback": [
      "\u001b[1;31m---------------------------------------------------------------------------\u001b[0m",
      "\u001b[1;31mTypeError\u001b[0m                                 Traceback (most recent call last)",
      "\u001b[1;32m<ipython-input-24-6263cac7809e>\u001b[0m in \u001b[0;36m<module>\u001b[1;34m\u001b[0m\n\u001b[0;32m      7\u001b[0m \u001b[0mtp\u001b[0m\u001b[1;33m=\u001b[0m\u001b[0mlist\u001b[0m\u001b[1;33m(\u001b[0m\u001b[0mtp\u001b[0m\u001b[1;33m)\u001b[0m\u001b[1;33m\u001b[0m\u001b[1;33m\u001b[0m\u001b[0m\n\u001b[0;32m      8\u001b[0m \u001b[0mtp\u001b[0m\u001b[1;33m.\u001b[0m\u001b[0mremove\u001b[0m\u001b[1;33m(\u001b[0m\u001b[0mtp\u001b[0m\u001b[1;33m[\u001b[0m\u001b[1;36m3\u001b[0m\u001b[1;33m]\u001b[0m\u001b[1;33m)\u001b[0m\u001b[1;33m\u001b[0m\u001b[1;33m\u001b[0m\u001b[0m\n\u001b[1;32m----> 9\u001b[1;33m \u001b[0mtp\u001b[0m\u001b[1;33m=\u001b[0m\u001b[0mtuple\u001b[0m\u001b[1;33m(\u001b[0m\u001b[0mtp\u001b[0m\u001b[1;33m)\u001b[0m\u001b[1;33m\u001b[0m\u001b[1;33m\u001b[0m\u001b[0m\n\u001b[0m\u001b[0;32m     10\u001b[0m \u001b[0mprint\u001b[0m\u001b[1;33m(\u001b[0m\u001b[0mtp\u001b[0m\u001b[1;33m)\u001b[0m\u001b[1;33m\u001b[0m\u001b[1;33m\u001b[0m\u001b[0m\n",
      "\u001b[1;31mTypeError\u001b[0m: 'list' object is not callable"
     ]
    }
   ],
   "source": [
    "#Q4\n",
    "tp = ('a','l','g','o','r','i','t','h','m')\n",
    "#4.1\n",
    "print(tp[0:])\n",
    "#4.2\n",
    "tp = ('a','l','g','o','r','i','t','h','m')\n",
    "tp=list(tp)\n",
    "tp.remove(tp[3])\n",
    "tp=tuple(tp)\n",
    "print(tp)"
   ]
  },
  {
   "cell_type": "code",
   "execution_count": 22,
   "metadata": {},
   "outputs": [
    {
     "name": "stdout",
     "output_type": "stream",
     "text": [
      "77\n",
      "44\n",
      "33\n",
      "65\n",
      "89\n",
      "1\n",
      "2\n",
      "3\n",
      "4\n",
      "5\n",
      "6\n",
      "7\n",
      "8\n",
      "9\n",
      "0\n"
     ]
    }
   ],
   "source": [
    "#Q5\n",
    "REGex=[1,2,3,4,5,6,7,8,9,0,77,44,15,33,65,89,12]\n",
    "REGexgt20=[]\n",
    "REGexls10=[]\n",
    "#5.1\n",
    "REGex=[1,2,3,4,5,6,7,8,9,0,77,44,15,33,65,89,12]\n",
    "for i in REGex:\n",
    "    if i>20:\n",
    "        print(i)\n",
    "        REGexgt20.append(i)\n",
    "        \n",
    "\n",
    "#5.2\n",
    "for i in REGex:\n",
    "    if i<=10:\n",
    "        print(i)\n",
    "        REGexls10.append(i)\n",
    "#5.3\n",
    "for i in REGex:\n",
    "    if i>20:\n",
    "        REGexgt20.append(i)\n",
    "for i in REGex:\n",
    "    if i<=10:\n",
    "        REGexls10.append(i)"
   ]
  },
  {
   "cell_type": "code",
   "execution_count": null,
   "metadata": {},
   "outputs": [],
   "source": [
    "# *args is used if we can get unknown length parameter as a list\n",
    "# **kwargs is used if we can get unknown length parameter as a dictionary"
   ]
  }
 ],
 "metadata": {
  "kernelspec": {
   "display_name": "Python 3",
   "language": "python",
   "name": "python3"
  },
  "language_info": {
   "codemirror_mode": {
    "name": "ipython",
    "version": 3
   },
   "file_extension": ".py",
   "mimetype": "text/x-python",
   "name": "python",
   "nbconvert_exporter": "python",
   "pygments_lexer": "ipython3",
   "version": "3.7.4"
  }
 },
 "nbformat": 4,
 "nbformat_minor": 2
}

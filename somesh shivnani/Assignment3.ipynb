{
 "cells": [
  {
   "cell_type": "code",
   "execution_count": null,
   "metadata": {},
   "outputs": [],
   "source": [
    "#Q1\n",
    "print(\"loading\",end=\"\")\n",
    "for i in range(0,5):\n",
    "    print(\".\")\n",
    "    time.sleep(1)"
   ]
  },
  {
   "cell_type": "code",
   "execution_count": null,
   "metadata": {},
   "outputs": [],
   "source": [
    "#Q2\n",
    "#return returns the value back to calling function but the local value it had gets destroyed\n",
    "#but in yield previous value is not lost so  next time it returns value exceeding or at next index of the last value\n",
    "#yield can used for some generator function or values"
   ]
  },
  {
   "cell_type": "code",
   "execution_count": null,
   "metadata": {},
   "outputs": [],
   "source": [
    "#Q3\n",
    "for i in range(5):\n",
    "    x=datetime.datetime.now()\n",
    "    x=str(x)\n",
    "    x=x.split(\" \")\n",
    "    print(x[1])\n",
    "    time.sleep(1)\n",
    "\n",
    "print(x)\n"
   ]
  },
  {
   "cell_type": "code",
   "execution_count": 2,
   "metadata": {},
   "outputs": [
    {
     "name": "stdout",
     "output_type": "stream",
     "text": [
      "(1, 2, 3, 4)\n"
     ]
    }
   ],
   "source": [
    "#Q4\n",
    "tp = (1,2,3)\n",
    "tp=list(tp)\n",
    "tp.append(4)\n",
    "tp=tuple(tp)\n",
    "print(tp)"
   ]
  },
  {
   "cell_type": "code",
   "execution_count": null,
   "metadata": {},
   "outputs": [],
   "source": [
    "#Q5\n",
    "import webbrowser\n",
    "a=int(input(\"enter number\"))\n",
    "b=input(\"enter message\")\n",
    "webbrowser.open_new_tab(f\"http://wa.me/91{a}?text={b}\")"
   ]
  }
 ],
 "metadata": {
  "kernelspec": {
   "display_name": "Python 3",
   "language": "python",
   "name": "python3"
  },
  "language_info": {
   "codemirror_mode": {
    "name": "ipython",
    "version": 3
   },
   "file_extension": ".py",
   "mimetype": "text/x-python",
   "name": "python",
   "nbconvert_exporter": "python",
   "pygments_lexer": "ipython3",
   "version": "3.7.4"
  }
 },
 "nbformat": 4,
 "nbformat_minor": 2
}

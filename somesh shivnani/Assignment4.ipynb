{
 "cells": [
  {
   "cell_type": "code",
   "execution_count": 9,
   "metadata": {},
   "outputs": [
    {
     "name": "stdout",
     "output_type": "stream",
     "text": [
      "['hello', 'my name is somesh shivnani', 'i live in jaipur', 'i am 3rd year student']\n"
     ]
    }
   ],
   "source": [
    "#Q1\n",
    "\n",
    "fp=open(\"for_read.txt\",\"r\")\n",
    "ll=fp.read()\n",
    "ll2=ll.split(\".\")\n",
    "print(ll2)"
   ]
  },
  {
   "cell_type": "code",
   "execution_count": 10,
   "metadata": {},
   "outputs": [
    {
     "name": "stdout",
     "output_type": "stream",
     "text": [
      "<class 'numpy.ndarray'>\n"
     ]
    }
   ],
   "source": [
    "#Q2\n",
    "fp=open(\"for_read.txt\",\"r\")\n",
    "import numpy as nm\n",
    "ll=fp.read()\n",
    "ll2=ll.split(\".\")\n",
    "ll2=nm.array(ll2)\n",
    "print(type(ll2))\n"
   ]
  },
  {
   "cell_type": "code",
   "execution_count": 1,
   "metadata": {},
   "outputs": [
    {
     "data": {
      "text/plain": [
       "<function TextIOWrapper.close()>"
      ]
     },
     "execution_count": 1,
     "metadata": {},
     "output_type": "execute_result"
    }
   ],
   "source": [
    "#Q5\n",
    "\n",
    "for a in range(65,91):\n",
    "    f=open(f\"{chr(a)}.txt\",\"w\")\n",
    "    f.write(f\"{chr(a)}\")\n",
    "f.close"
   ]
  },
  {
   "cell_type": "code",
   "execution_count": 6,
   "metadata": {},
   "outputs": [],
   "source": [
    "#Q6\n",
    "fp=open(\"for_6quest.txt\",\"w\")\n",
    "for i in range(1,27):\n",
    "    fp.write(str(i)+\"-\"+str(chr(64+i)))"
   ]
  },
  {
   "cell_type": "code",
   "execution_count": 12,
   "metadata": {},
   "outputs": [
    {
     "name": "stdout",
     "output_type": "stream",
     "text": [
      "['my name is somesh ', 'i live  in jaipur', '']\n"
     ]
    }
   ],
   "source": [
    "#Q4\n",
    "fp1=open(\"B.txt\",\"r\")\n",
    "\n",
    "l1=fp1.read()\n",
    "l1=l1.split(\".\")\n",
    "\n",
    "fp2=open(\"A.txt\",\"r\")\n",
    "l2=fp2.read()\n",
    "l2=l2.split(\".\")\n",
    "\n",
    "l=len(l1)\n",
    "for i in range(0,l):\n",
    "    l2[i]=l2[i]+\" \"+l1[i]\n",
    "print(l2)"
   ]
  },
  {
   "cell_type": "code",
   "execution_count": 4,
   "metadata": {},
   "outputs": [
    {
     "name": "stdout",
     "output_type": "stream",
     "text": [
      "['hello', 'my name is somesh shivnani', 'i live in jaipur', 'i am 3rd year student']\n",
      "hello\n"
     ]
    }
   ],
   "source": [
    "#Q3\n",
    "fp=open(\"for_read.txt\",\"r\")\n",
    "ll=fp.read()\n",
    "ll=ll.split(\".\")\n",
    "length=len(ll)\n",
    "# print(ll)\n",
    "import random\n",
    "r1=random.randint(0,length-1)\n",
    "\n",
    "print(ll[r1])\n"
   ]
  },
  {
   "cell_type": "code",
   "execution_count": 1,
   "metadata": {},
   "outputs": [
    {
     "name": "stdout",
     "output_type": "stream",
     "text": [
      "<Response [200]>\n",
      "\n",
      "Coronavirus Cases:\n",
      "\n",
      "23,502 \n",
      "\n",
      "\n",
      "\n",
      "Deaths:\n",
      "\n",
      "722\n",
      "\n",
      "\n",
      "\n",
      "Recovered:\n",
      "\n",
      "5,012\n",
      "\n",
      "\n"
     ]
    }
   ],
   "source": [
    "#Q7\n",
    "from bs4 import BeautifulSoup\n",
    "import requests\n",
    "\n",
    "url=\"https://www.worldometers.info/coronavirus/country/india/\"\n",
    "page=requests.get(url)\n",
    "print(page)\n",
    "pages=page.text\n",
    "a=BeautifulSoup(pages,\"html.parser\")\n",
    "#print(a)\n",
    "\n",
    "heading=a.findAll(\"div\",{\"id\":\"maincounter-wrap\"})\n",
    "content1=a.findAll(\"div\",{\"class\":\"maincounter-number\"})\n",
    "for i in heading:\n",
    "    print(i.text)\n",
    "# for i,j in zip(heading,content1):\n",
    "#     print(i.text)\n",
    "#     print(j.text)\n"
   ]
  },
  {
   "cell_type": "code",
   "execution_count": null,
   "metadata": {},
   "outputs": [],
   "source": []
  },
  {
   "cell_type": "code",
   "execution_count": null,
   "metadata": {},
   "outputs": [],
   "source": []
  }
 ],
 "metadata": {
  "kernelspec": {
   "display_name": "Python 3",
   "language": "python",
   "name": "python3"
  },
  "language_info": {
   "codemirror_mode": {
    "name": "ipython",
    "version": 3
   },
   "file_extension": ".py",
   "mimetype": "text/x-python",
   "name": "python",
   "nbconvert_exporter": "python",
   "pygments_lexer": "ipython3",
   "version": "3.7.4"
  }
 },
 "nbformat": 4,
 "nbformat_minor": 2
}

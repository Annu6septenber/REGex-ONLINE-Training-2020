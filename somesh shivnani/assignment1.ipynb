{
 "cells": [
  {
   "cell_type": "code",
   "execution_count": 10,
   "metadata": {},
   "outputs": [
    {
     "name": "stdout",
     "output_type": "stream",
     "text": [
      "4054.0\n"
     ]
    }
   ],
   "source": [
    "#python class 2\n",
    "print( 3 + 4 ** 6 - 9 * 10 / 2 )"
   ]
  },
  {
   "cell_type": "code",
   "execution_count": 2,
   "metadata": {},
   "outputs": [
    {
     "name": "stdout",
     "output_type": "stream",
     "text": [
      "7\n"
     ]
    }
   ],
   "source": [
    "\n",
    "ll=['a','e','i','o','u']\n",
    "ss=\"hello this side regex\"\n",
    "count=0\n",
    "for i in ss:\n",
    "    if i in ll:\n",
    "        count=count+1\n",
    "        \n",
    "print(count)"
   ]
  },
  {
   "cell_type": "code",
   "execution_count": 3,
   "metadata": {},
   "outputs": [
    {
     "name": "stdout",
     "output_type": "stream",
     "text": [
      "enter height2\n",
      "enter base3\n",
      "area of triangle is3.0\n"
     ]
    }
   ],
   "source": [
    "\n",
    "a=int(input(\"enter height\"))\n",
    "b=int(input(\"enter base\"))\n",
    "print(\"area of triangle is\"+str((b*a)/2))"
   ]
  },
  {
   "cell_type": "code",
   "execution_count": 4,
   "metadata": {},
   "outputs": [
    {
     "name": "stdout",
     "output_type": "stream",
     "text": [
      "enter the year2000\n",
      "                                  2000\n",
      "\n",
      "      January                   February                   March\n",
      "Mo Tu We Th Fr Sa Su      Mo Tu We Th Fr Sa Su      Mo Tu We Th Fr Sa Su\n",
      "                1  2          1  2  3  4  5  6             1  2  3  4  5\n",
      " 3  4  5  6  7  8  9       7  8  9 10 11 12 13       6  7  8  9 10 11 12\n",
      "10 11 12 13 14 15 16      14 15 16 17 18 19 20      13 14 15 16 17 18 19\n",
      "17 18 19 20 21 22 23      21 22 23 24 25 26 27      20 21 22 23 24 25 26\n",
      "24 25 26 27 28 29 30      28 29                     27 28 29 30 31\n",
      "31\n",
      "\n",
      "       April                      May                       June\n",
      "Mo Tu We Th Fr Sa Su      Mo Tu We Th Fr Sa Su      Mo Tu We Th Fr Sa Su\n",
      "                1  2       1  2  3  4  5  6  7                1  2  3  4\n",
      " 3  4  5  6  7  8  9       8  9 10 11 12 13 14       5  6  7  8  9 10 11\n",
      "10 11 12 13 14 15 16      15 16 17 18 19 20 21      12 13 14 15 16 17 18\n",
      "17 18 19 20 21 22 23      22 23 24 25 26 27 28      19 20 21 22 23 24 25\n",
      "24 25 26 27 28 29 30      29 30 31                  26 27 28 29 30\n",
      "\n",
      "        July                     August                  September\n",
      "Mo Tu We Th Fr Sa Su      Mo Tu We Th Fr Sa Su      Mo Tu We Th Fr Sa Su\n",
      "                1  2          1  2  3  4  5  6                   1  2  3\n",
      " 3  4  5  6  7  8  9       7  8  9 10 11 12 13       4  5  6  7  8  9 10\n",
      "10 11 12 13 14 15 16      14 15 16 17 18 19 20      11 12 13 14 15 16 17\n",
      "17 18 19 20 21 22 23      21 22 23 24 25 26 27      18 19 20 21 22 23 24\n",
      "24 25 26 27 28 29 30      28 29 30 31               25 26 27 28 29 30\n",
      "31\n",
      "\n",
      "      October                   November                  December\n",
      "Mo Tu We Th Fr Sa Su      Mo Tu We Th Fr Sa Su      Mo Tu We Th Fr Sa Su\n",
      "                   1             1  2  3  4  5                   1  2  3\n",
      " 2  3  4  5  6  7  8       6  7  8  9 10 11 12       4  5  6  7  8  9 10\n",
      " 9 10 11 12 13 14 15      13 14 15 16 17 18 19      11 12 13 14 15 16 17\n",
      "16 17 18 19 20 21 22      20 21 22 23 24 25 26      18 19 20 21 22 23 24\n",
      "23 24 25 26 27 28 29      27 28 29 30               25 26 27 28 29 30 31\n",
      "30 31\n",
      "\n"
     ]
    }
   ],
   "source": [
    "\n",
    "import calendar\n",
    "a=int(input(\"enter the year\"))\n",
    "print(calendar.calendar(a))"
   ]
  },
  {
   "cell_type": "code",
   "execution_count": 5,
   "metadata": {},
   "outputs": [
    {
     "name": "stdout",
     "output_type": "stream",
     "text": [
      "Enter a number: 10\n",
      "enter another number12\n",
      "10 it is not an armstrong number \n",
      "11 it is not an armstrong number \n",
      "12 it is not an armstrong number \n"
     ]
    }
   ],
   "source": [
    "#python class 3\n",
    "num1 = int(input(\"Enter a number: \"))\n",
    "num2=int(input(\"enter another number\"))\n",
    "\n",
    "for num in range(num1,num2+1):\n",
    "    sum = 0\n",
    "    temp = num\n",
    "    while temp>0:\n",
    "        digit=temp%10\n",
    "        sum+=digit**3\n",
    "        temp//=10\n",
    "        #print(f\"sum is {sum}\")\n",
    "    if num==sum:\n",
    "        print(num,\"is an armstrong number\")\n",
    "        \n",
    "    else:\n",
    "        print(num,\"it is not an armstrong number \")"
   ]
  },
  {
   "cell_type": "code",
   "execution_count": 6,
   "metadata": {},
   "outputs": [
    {
     "name": "stdout",
     "output_type": "stream",
     "text": [
      "hello this world 2020\n"
     ]
    }
   ],
   "source": [
    "ll1=\"hello this world @2020!!!\"\n",
    "ll2=\"@!#$%&*()\"\n",
    "\n",
    "for i in ll2:\n",
    "    ll1=ll1.replace(i,'')\n",
    "print(ll1)"
   ]
  },
  {
   "cell_type": "code",
   "execution_count": 11,
   "metadata": {},
   "outputs": [
    {
     "name": "stdout",
     "output_type": "stream",
     "text": [
      "['Apple', 'REGEX', 'apple', 'banana', 'cat']\n"
     ]
    }
   ],
   "source": [
    "ll=[\"Apple\", \"banana\", \"cat\", \"REGEX\",\"apple\"]\n",
    "ll.sort()\n",
    "print(ll)\n",
    "#this is because of the ascii code ,it is arranged on the basis of ascii value"
   ]
  },
  {
   "cell_type": "code",
   "execution_count": 12,
   "metadata": {},
   "outputs": [],
   "source": [
    "#python class 1\n",
    "#cpython\n",
    "#The default implementation of the Python programming language is Cpython.\n",
    "#As the name suggests Cpython is written in C language.\n",
    "#Cpython compiles the python source code into intermediate bytecode, which is executed by the Cpython virtual machine. \n",
    "#CPython can be defined as both an interpreter and a compiler as it compiles Python code into bytecode before interpreting it. "
   ]
  },
  {
   "cell_type": "code",
   "execution_count": 13,
   "metadata": {},
   "outputs": [],
   "source": [
    "#jpython\n",
    "#Jpython is an implementation of the Python programming language that can run on the Java platform.\n",
    "#Jpython programs use Java classes instead of Python modules .\n",
    "#Jpython compiles into Java byte code, which can then be run by Java virtual machine. \n",
    "#Jpython enables the use of Java class library functions from the Python program.\n",
    "#Jpython is slow as compared to Cpython"
   ]
  },
  {
   "cell_type": "code",
   "execution_count": 14,
   "metadata": {},
   "outputs": [],
   "source": [
    "#differences between python 3 and python2\n",
    "#1-print(\"hello\") in python 3 and python \"hello\" in python2\n",
    "#2-syntax of python 3 is easier than python2\n",
    "#3-if you divide two integers you get float in python 3 whereas int in python 2\n",
    "#4-value of variables cannot change in python 3 but global variable may change inside for loop in python2 "
   ]
  },
  {
   "cell_type": "code",
   "execution_count": null,
   "metadata": {},
   "outputs": [],
   "source": [
    "#difference between ascii and unicode\n",
    "#ASCII defines 128 characters, which map to the numbers 0–127. Unicode defines (less than) 221characters, which, similarly, map to numbers 0–221.\n",
    "\n",
    "#Unicode is a superset of ASCII, and the numbers 0–128 have the same meaning in ASCII as they have in Unicode. \n",
    "#For example, the number 65 means \"Latin capital 'A'\".\n",
    "\n",
    "#Because Unicode characters don't generally fit into one 8-bit byte, there are numerous ways of storing Unicode characters in byte sequences, such as UTF-32 and UTF-8.\n",
    "\n",
    "#C follows ASCII and Java follows UNICODE."
   ]
  }
 ],
 "metadata": {
  "kernelspec": {
   "display_name": "Python 3",
   "language": "python",
   "name": "python3"
  },
  "language_info": {
   "codemirror_mode": {
    "name": "ipython",
    "version": 3
   },
   "file_extension": ".py",
   "mimetype": "text/x-python",
   "name": "python",
   "nbconvert_exporter": "python",
   "pygments_lexer": "ipython3",
   "version": "3.7.4"
  }
 },
 "nbformat": 4,
 "nbformat_minor": 2
}

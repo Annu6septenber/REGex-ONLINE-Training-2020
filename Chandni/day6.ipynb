{
 "cells": [
  {
   "cell_type": "code",
   "execution_count": 11,
   "metadata": {},
   "outputs": [
    {
     "name": "stdout",
     "output_type": "stream",
     "text": [
      "['this is the first line of my file, hello.', 'this is the second line of my file, hello.', 'this is the third line of my file, hello.', 'this is the fourth line of my file, hello.', 'this is the fifth line of my file, hello.', 'this is the sixth line of my file, hello.', 'this is the seventh line of my file, hello.', 'this is the eight line of my file, hello.', 'this is the ninth line of my file, hello.', 'this is the tenth line of my file, hello.']\n"
     ]
    }
   ],
   "source": [
    "#Ques 1\n",
    "f= open(\"file.txt\",\"r\")\n",
    "li=[]\n",
    "c= f.readline()\n",
    "while(True) :\n",
    "    if(c==\"\"):\n",
    "        break\n",
    "    else:\n",
    "        line=c.rstrip('\\n')\n",
    "        li.append(line)\n",
    "        c=f.readline()\n",
    "print(li)\n",
    "f.close()"
   ]
  },
  {
   "cell_type": "code",
   "execution_count": 13,
   "metadata": {},
   "outputs": [
    {
     "name": "stdout",
     "output_type": "stream",
     "text": [
      "['this is the first line of my file, hello.', 'this is the second line of my file, hello.', 'this is the third line of my file, hello.', 'this is the fourth line of my file, hello.', 'this is the fifth line of my file, hello.', 'this is the sixth line of my file, hello.', 'this is the seventh line of my file, hello.', 'this is the eight line of my file, hello.', 'this is the ninth line of my file, hello.', 'this is the tenth line of my file, hello.']\n"
     ]
    }
   ],
   "source": [
    "#Ques 2\n",
    "f= open(\"file.txt\",\"r\")\n",
    "arr = []\n",
    "c= f.readline()\n",
    "for i in arr :\n",
    "    if(c==\"\"):\n",
    "        break\n",
    "    else:\n",
    "        line=c.rstrip('\\n')\n",
    "        arr[line]\n",
    "        c=f.readline()\n",
    "print(li)\n",
    "f.close()"
   ]
  },
  {
   "cell_type": "code",
   "execution_count": 35,
   "metadata": {},
   "outputs": [
    {
     "name": "stdout",
     "output_type": "stream",
     "text": [
      "this is the ninth line of my file, hello.\n"
     ]
    }
   ],
   "source": [
    "#Ques 3\n",
    "import random\n",
    "f= open(\"file.txt\",\"r\")\n",
    "li=[]\n",
    "c= f.readline()\n",
    "lin=random.choice(f.read().splitlines())\n",
    "print(lin)\n",
    "f.close()"
   ]
  },
  {
   "cell_type": "code",
   "execution_count": 2,
   "metadata": {},
   "outputs": [
    {
     "name": "stdout",
     "output_type": "stream",
     "text": [
      "1hello\n",
      "\n",
      "0\n",
      "\n",
      "2hi\n",
      "\n",
      "9\n",
      "\n",
      "3hiii\n",
      "\n",
      "8\n",
      "\n",
      "4hiiiii\n",
      "\n",
      "7\n",
      "\n",
      "5\n",
      "\n",
      "6\n",
      "\n",
      "6\n",
      "\n",
      "5\n",
      "\n",
      "7\n",
      "\n",
      "4\n",
      "\n",
      "8\n",
      "\n",
      "3\n",
      "\n",
      "9\n",
      "\n",
      "2\n",
      "\n",
      "0\n",
      "1\n",
      "\n"
     ]
    }
   ],
   "source": [
    "#Ques 4\n",
    "ff= open(\"file1.txt\",\"r\")\n",
    "fff= open(\"file2.txt\",\"r\")\n",
    "c= ff.readline()\n",
    "d=fff.readline()\n",
    "while(c!='' and d!=''):\n",
    "    print(c)\n",
    "    print(d)\n",
    "    c= ff.readline()\n",
    "    d=fff.readline()\n",
    "ff.close()\n",
    "fff.close()"
   ]
  },
  {
   "cell_type": "code",
   "execution_count": 8,
   "metadata": {},
   "outputs": [],
   "source": [
    "#Ques 5\n",
    "letter='A'\n",
    "a=ord(letter)\n",
    "while a<91:\n",
    "    i=open(letter+\".txt\",\"x\")\n",
    "    i.close()\n",
    "    a=ord(letter)+1\n",
    "    letter=chr(a)"
   ]
  },
  {
   "cell_type": "code",
   "execution_count": 17,
   "metadata": {},
   "outputs": [],
   "source": [
    "#Ques 6\n",
    "letter='A'\n",
    "a=ord(letter)\n",
    "while a<90:\n",
    "    f = open(\"file3.txt\",\"a\")\n",
    "    for i in range(3):\n",
    "        f.write(letter)\n",
    "        a=ord(letter)+1\n",
    "        letter=chr(a)\n",
    "        if letter==None:\n",
    "            f.write(\" \")\n",
    "    f.write(\"\\n\")\n",
    "    f.close()"
   ]
  },
  {
   "cell_type": "code",
   "execution_count": null,
   "metadata": {},
   "outputs": [],
   "source": [
    "#Ques 7\n",
    "import requests\n",
    "from bs4 import BeautifulSoup \n",
    "\n",
    "url=\"https://www.worldometers.info/coronavirus/\"\n",
    "page=requests.get(url)\n",
    "\n",
    "soup = BeautifulSoup(page.content,\"html.parser\")\n",
    "a=soup.findAll(\"div\" ,{\"class\":\"maincounter-number\"})\n",
    "b=soup.findAll(\"h1\")\n",
    "bis=[]\n",
    "for i in a:\n",
    "    bis.append(i.text)\n",
    "j=0\n",
    "for i in b:\n",
    "        print(i.text)\n",
    "        print(bis[j])\n",
    "        j+=1"
   ]
  }
 ],
 "metadata": {
  "kernelspec": {
   "display_name": "Python 3",
   "language": "python",
   "name": "python3"
  },
  "language_info": {
   "codemirror_mode": {
    "name": "ipython",
    "version": 3
   },
   "file_extension": ".py",
   "mimetype": "text/x-python",
   "name": "python",
   "nbconvert_exporter": "python",
   "pygments_lexer": "ipython3",
   "version": "3.7.3"
  }
 },
 "nbformat": 4,
 "nbformat_minor": 4
}

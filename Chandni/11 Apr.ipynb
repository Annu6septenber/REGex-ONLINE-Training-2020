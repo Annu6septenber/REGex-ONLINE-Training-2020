{
 "cells": [
  {
   "cell_type": "code",
   "execution_count": 1,
   "metadata": {},
   "outputs": [
    {
     "name": "stdout",
     "output_type": "stream",
     "text": [
      "4054.0\n"
     ]
    }
   ],
   "source": [
    "print(3+4**6-9*10/2)"
   ]
  },
  {
   "cell_type": "code",
   "execution_count": 16,
   "metadata": {},
   "outputs": [
    {
     "name": "stdout",
     "output_type": "stream",
     "text": [
      "7\n"
     ]
    }
   ],
   "source": [
    "string =\"hello this side regex\"\n",
    "count=0\n",
    "for i in string:\n",
    "    for j in i:\n",
    "        if j in ['a','e','i','o','u']:\n",
    "            count+=1\n",
    "print(count)"
   ]
  },
  {
   "cell_type": "code",
   "execution_count": 18,
   "metadata": {},
   "outputs": [
    {
     "name": "stdout",
     "output_type": "stream",
     "text": [
      "Enter the height of the triangle10\n",
      "Enter the base of the triangle10\n",
      "the area of the triangle is:\n",
      "50.0\n"
     ]
    }
   ],
   "source": [
    "height=input(\"Enter the height of the triangle\")\n",
    "base=input(\"Enter the base of the triangle\")\n",
    "h=int(height)\n",
    "b=int(base)\n",
    "print(\"the area of the triangle is:\")\n",
    "area=1/2*h*b\n",
    "print(area)"
   ]
  },
  {
   "cell_type": "code",
   "execution_count": null,
   "metadata": {},
   "outputs": [
    {
     "name": "stdout",
     "output_type": "stream",
     "text": [
      " Enter the month and year.\n"
     ]
    }
   ],
   "source": [
    "import calendar\n",
    "print(\" Enter the month and year.\")\n",
    "y = int(input(\"Enter year: \"))\n",
    "print(\"display the calendar.\")\n",
    "print(calendar.calendar(y))"
   ]
  },
  {
   "cell_type": "code",
   "execution_count": null,
   "metadata": {},
   "outputs": [],
   "source": []
  },
  {
   "cell_type": "code",
   "execution_count": null,
   "metadata": {},
   "outputs": [],
   "source": []
  }
 ],
 "metadata": {
  "kernelspec": {
   "display_name": "Python 3",
   "language": "python",
   "name": "python3"
  },
  "language_info": {
   "codemirror_mode": {
    "name": "ipython",
    "version": 3
   },
   "file_extension": ".py",
   "mimetype": "text/x-python",
   "name": "python",
   "nbconvert_exporter": "python",
   "pygments_lexer": "ipython3",
   "version": "3.7.6"
  }
 },
 "nbformat": 4,
 "nbformat_minor": 4
}

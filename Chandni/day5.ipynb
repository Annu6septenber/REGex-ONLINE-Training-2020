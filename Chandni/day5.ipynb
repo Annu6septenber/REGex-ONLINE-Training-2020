{
 "cells": [
  {
   "cell_type": "code",
   "execution_count": 1,
   "metadata": {},
   "outputs": [
    {
     "name": "stdout",
     "output_type": "stream",
     "text": [
      "loading....."
     ]
    }
   ],
   "source": [
    "#Ques 1\n",
    "\n",
    "import time\n",
    "print(\"loading\" ,end=\"\")\n",
    "for i in range(5):\n",
    "    print(\".\",end=\"\")\n",
    "    time.sleep(1)"
   ]
  },
  {
   "cell_type": "code",
   "execution_count": 4,
   "metadata": {},
   "outputs": [],
   "source": [
    "#Ques 2\n",
    "#Difference between RETURN & YIELD\n",
    "\"\"\"\n",
    "Return sends a specified value back to its caller\n",
    "Yield can produce a sequence of values\n",
    "\n",
    "\"\"\""
   ]
  },
  {
   "cell_type": "code",
   "execution_count": 17,
   "metadata": {},
   "outputs": [
    {
     "name": "stdout",
     "output_type": "stream",
     "text": [
      "01 : 40 : 08\n",
      "01 : 40 : 09\n",
      "01 : 40 : 10\n",
      "01 : 40 : 11\n",
      "01 : 40 : 12\n"
     ]
    }
   ],
   "source": [
    "#Ques 3\n",
    "import datetime\n",
    "for i in range(5):\n",
    "    print(time.strftime(\"%H : %M : %S\"))\n",
    "    time.sleep(1)"
   ]
  },
  {
   "cell_type": "code",
   "execution_count": 1,
   "metadata": {},
   "outputs": [
    {
     "name": "stdout",
     "output_type": "stream",
     "text": [
      "Add element5\n",
      "(1, 2, 3, 4, 5)\n"
     ]
    }
   ],
   "source": [
    "#Ques 4\n",
    "tuple1=(1,2,3,4)\n",
    "li=[]\n",
    "tuple2=()\n",
    "n=input(\"Add element\")\n",
    "n=int (n)\n",
    "li=list(tuple1)\n",
    "li.append(n)\n",
    "tuple2=tuple(li)\n",
    "print(tuple2)"
   ]
  },
  {
   "cell_type": "code",
   "execution_count": 1,
   "metadata": {},
   "outputs": [
    {
     "data": {
      "text/plain": [
       "True"
      ]
     },
     "execution_count": 1,
     "metadata": {},
     "output_type": "execute_result"
    }
   ],
   "source": [
    "#Ques 5\n",
    "\n",
    "import webbrowser\n",
    "webbrowser.open_new_tab(\"https://wa.me/918871080807?text=automated%20msg\")\n"
   ]
  },
  {
   "cell_type": "code",
   "execution_count": null,
   "metadata": {},
   "outputs": [],
   "source": []
  }
 ],
 "metadata": {
  "kernelspec": {
   "display_name": "Python 3",
   "language": "python",
   "name": "python3"
  },
  "language_info": {
   "codemirror_mode": {
    "name": "ipython",
    "version": 3
   },
   "file_extension": ".py",
   "mimetype": "text/x-python",
   "name": "python",
   "nbconvert_exporter": "python",
   "pygments_lexer": "ipython3",
   "version": "3.7.3"
  }
 },
 "nbformat": 4,
 "nbformat_minor": 4
}

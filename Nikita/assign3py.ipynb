{
 "cells": [
  {
   "cell_type": "code",
   "execution_count": null,
   "metadata": {},
   "outputs": [],
   "source": [
    "#QUES 1\n",
    "s = input(\"enter a start range to find the armstrong no.\")\n",
    "e = input(\"enter a start range to find the armstrong no.\")\n",
    "s=int(s)\n",
    "e=int(e)\n",
    "\n",
    "for j in range(s,e+1):\n",
    "    summ=0\n",
    "    temp=j\n",
    "    while temp>0:\n",
    "        digit=temp%10\n",
    "        summ+=digit**3\n",
    "        temp //=10\n",
    "    if j==summ:\n",
    "        print(j,\"is an armstrong number\")\n",
    "    else:\n",
    "        continue"
   ]
  },
  {
   "cell_type": "code",
   "execution_count": null,
   "metadata": {},
   "outputs": [],
   "source": [
    "#Ques 2\n",
    "string= \"hello this world @2020!!!\"\n",
    "str1=\"\"\n",
    "for i in string :\n",
    "    if i.isalpha() or i.isdigit() or i.isspace():\n",
    "        str1+=i\n",
    "print(str1)"
   ]
  },
  {
   "cell_type": "code",
   "execution_count": null,
   "metadata": {},
   "outputs": [],
   "source": [
    "#Ques 3\n",
    "list1=[\"Apple\",\"banana\",\"cat\",\"REGEX\",\"apple\"]\n",
    "list2=sorted(list1,key=str.lower)\n",
    "#using the \"key = str.lower\" converts all the upper case string into lower case and then sorts\n",
    "# the list by which we get the following output otherwise we would have got this:\n",
    "#['Apple', 'REGEX', 'apple', 'banana', 'cat']\n",
    "list2"
   ]
  }
 ],
 "metadata": {
  "kernelspec": {
   "display_name": "Python 3",
   "language": "python",
   "name": "python3"
  },
  "language_info": {
   "codemirror_mode": {
    "name": "ipython",
    "version": 3
   },
   "file_extension": ".py",
   "mimetype": "text/x-python",
   "name": "python",
   "nbconvert_exporter": "python",
   "pygments_lexer": "ipython3",
   "version": "3.7.6"
  }
 },
 "nbformat": 4,
 "nbformat_minor": 4
}

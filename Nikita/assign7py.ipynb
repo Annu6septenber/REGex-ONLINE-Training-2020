{
 "cells": [
  {
   "cell_type": "code",
   "execution_count": 12,
   "metadata": {},
   "outputs": [],
   "source": [
    "#Ques 1\n",
    "import requests\n",
    "from bs4 import BeautifulSoup \n",
    "\n",
    "url=\"https://www.worldometers.info/coronavirus/\"\n",
    "page=requests.get(url)\n",
    "\n",
    "soup = BeautifulSoup(page.content,\"html.parser\")\n",
    "#table=soup.find(\"table\" ,{\"class\":\"table table-bordered table-hover main_table_countries dataTable no-footer\"})\n",
    "table=soup.find(\"table\" ,{\"id\":\"main_table_countries_today\"})\n",
    "trows=table.find_all(\"tr\")\n",
    "file=open(\"file4.txt\",\"w\")\n",
    "for i in trows:\n",
    "    tdata=i.find_all(\"td\")\n",
    "    for j in tdata:\n",
    "        if j.text == '':\n",
    "            file.write(\"   \" + \",\" ) \n",
    "        else:\n",
    "            file.write(j.text + \" , \")\n",
    "    file.write(\"\\n\")\n",
    "file.write(\"\\n\")\n",
    "file.close()"
   ]
  },
  {
   "cell_type": "code",
   "execution_count": null,
   "metadata": {},
   "outputs": [],
   "source": []
  }
 ],
 "metadata": {
  "kernelspec": {
   "display_name": "Python 3",
   "language": "python",
   "name": "python3"
  },
  "language_info": {
   "codemirror_mode": {
    "name": "ipython",
    "version": 3
   },
   "file_extension": ".py",
   "mimetype": "text/x-python",
   "name": "python",
   "nbconvert_exporter": "python",
   "pygments_lexer": "ipython3",
   "version": "3.7.6"
  }
 },
 "nbformat": 4,
 "nbformat_minor": 4
}

{
 "cells": [
  {
   "cell_type": "code",
   "execution_count": null,
   "metadata": {},
   "outputs": [],
   "source": [
    "#Ques 1\n",
    "LIST_STATES = [\"GOA\",\"RAJASTHAN\",\"KARNATAKA\",\"GUJRAT\",\"MANIPUR\",\"MADHYA PRADESH\"]\n",
    "li=[]\n",
    "for i in LIST_STATES:\n",
    "    li.append(i[0])\n",
    "print(li)"
   ]
  },
  {
   "cell_type": "code",
   "execution_count": null,
   "metadata": {},
   "outputs": [],
   "source": [
    "#Ques 2\n",
    "lisst=[\"Ganga\",\"Tapti\",\"Kaveri\",\"Yamuna\",\"Narmada\"]\n",
    "list1=[]\n",
    "sum1=0\n",
    "for i in lisst:\n",
    "    for j in i:\n",
    "       # print(\"for :\",j,\" ascii is: \",ord(j))\n",
    "        sum1+=ord(j)\n",
    "    list1.append(sum1)\n",
    "print(list1)"
   ]
  },
  {
   "cell_type": "code",
   "execution_count": 22,
   "metadata": {},
   "outputs": [
    {
     "name": "stdout",
     "output_type": "stream",
     "text": [
      "['2020-04-16', '16:24:20.574227']\n"
     ]
    }
   ],
   "source": [
    "#Ques 3\n",
    "import time \n",
    "from datetime import datetime\n",
    "list1=[]\n",
    "while(True):\n",
    "    if time.strftime(\"%H:%M:%S\")==\"16:24:20\":\n",
    "        t=datetime.now()\n",
    "        t=str(t)\n",
    "        list1=t.split(\" \")\n",
    "        print(list1)\n",
    "        break\n",
    "    else:\n",
    "        time.sleep(1)\n",
    "        continue\n",
    "\n"
   ]
  },
  {
   "cell_type": "code",
   "execution_count": 20,
   "metadata": {},
   "outputs": [
    {
     "name": "stdout",
     "output_type": "stream",
     "text": [
      "('a', 'l', 'g', 'o', 'r', 'i', 't', 'h', 'm')\n",
      "('a', 'l', 'o', 'r', 'i', 't', 'h', 'm')\n"
     ]
    }
   ],
   "source": [
    "#Ques 4\n",
    "tuple1=('a','l','g','o','r','i','t','h','m')\n",
    "t=()\n",
    "print(tuple1[:])\n",
    "t=tuple1[:2]+tuple1[3:]\n",
    "print(t)"
   ]
  },
  {
   "cell_type": "code",
   "execution_count": null,
   "metadata": {},
   "outputs": [],
   "source": [
    "#Ques 5\n",
    "REGex=[1,2,3,4,5,6,7,8,9,0,77,44,15,33,65,89,12]\n",
    "g=[]\n",
    "l=[]\n",
    "for i in REGex:\n",
    "    if i>20:\n",
    "        g.append(i)\n",
    "print(g)\n",
    "for i in REGex:\n",
    "    if i<=10:\n",
    "        l.append(i)\n",
    "print(l)"
   ]
  },
  {
   "cell_type": "code",
   "execution_count": 1,
   "metadata": {},
   "outputs": [
    {
     "name": "stdout",
     "output_type": "stream",
     "text": [
      "The current date is: 18/04/2020 \n",
      "Enter the new date: (dd-mm-yy) \n"
     ]
    }
   ],
   "source": [
    "#Ques 6\n",
    "import os\n",
    "a = os.popen(\"date\")\n",
    "date = a.read()\n",
    "print(date)"
   ]
  },
  {
   "cell_type": "code",
   "execution_count": null,
   "metadata": {},
   "outputs": [],
   "source": []
  }
 ],
 "metadata": {
  "kernelspec": {
   "display_name": "Python 3",
   "language": "python",
   "name": "python3"
  },
  "language_info": {
   "codemirror_mode": {
    "name": "ipython",
    "version": 3
   },
   "file_extension": ".py",
   "mimetype": "text/x-python",
   "name": "python",
   "nbconvert_exporter": "python",
   "pygments_lexer": "ipython3",
   "version": "3.7.6"
  }
 },
 "nbformat": 4,
 "nbformat_minor": 4
}

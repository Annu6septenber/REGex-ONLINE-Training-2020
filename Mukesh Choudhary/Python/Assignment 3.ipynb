{
 "cells": [
  {
   "cell_type": "markdown",
   "metadata": {},
   "source": [
    "# Assignment 3"
   ]
  },
  {
   "cell_type": "markdown",
   "metadata": {},
   "source": [
    "Q1. Hint:\n",
    "    -> Make a use of Time Module and for Loop\n",
    "    -> Output Should be :\n",
    "        Loading.\n",
    "        Loading..\n",
    "        Loading...\n",
    "        Loading....\n",
    "        Loading.....\n",
    "    Here it shows you 5 output but you have to print only \"Loading.....\" in animated form."
   ]
  },
  {
   "cell_type": "code",
   "execution_count": 54,
   "metadata": {},
   "outputs": [
    {
     "name": "stdout",
     "output_type": "stream",
     "text": [
      "loading....."
     ]
    }
   ],
   "source": [
    "#Answer 1\n",
    "import time\n",
    "while True:\n",
    "    print('\\rloading.',end='')\n",
    "    time.sleep(0.5)\n",
    "    print('\\rloading..',end='')\n",
    "    time.sleep(0.5)\n",
    "    print('\\rloading...',end='')\n",
    "    time.sleep(0.5)\n",
    "    print('\\rloading....',end='')\n",
    "    time.sleep(0.5)\n",
    "    print('\\rloading.....',end='')\n",
    "    time.sleep(0.5)\n",
    "    break;"
   ]
  },
  {
   "cell_type": "markdown",
   "metadata": {},
   "source": [
    "Q2. Difference between Return and Yield?"
   ]
  },
  {
   "cell_type": "markdown",
   "metadata": {},
   "source": [
    "#Answer 2\n",
    "\n",
    "1. RETURN:\n",
    "=>The keyword return causes the function to exit and hands back a value to its caller.\n",
    "  The return statement is used when a function is ready to exit and return a value to its caller.\n",
    "  It:\n",
    "      ->returns a single value to its caller\n",
    "      ->terminate the loop immediately\n",
    "      ->exit the function\n",
    "\n",
    "2. YIELD:\n",
    "=>The keyword yield causes the function to hand back a generator object to its caller. \n",
    "  Yield will not cause the function to exit nor terminate the loop.\n",
    "  A generator can be parsed into a list.\n",
    "  To calculate a series of results one-by-one on the fly.\n",
    "  It:\n",
    "      ->returns a generator object (can parse into a list)\n",
    "      ->keep the loop going"
   ]
  },
  {
   "cell_type": "markdown",
   "metadata": {},
   "source": [
    "Q3. Make digital Clock and run it for 5 sec.\n",
    "    Output:\n",
    "        16:39:08\n",
    "             :09\n",
    "             :10\n",
    "             :11\n",
    "             :12"
   ]
  },
  {
   "cell_type": "code",
   "execution_count": 34,
   "metadata": {},
   "outputs": [
    {
     "name": "stdout",
     "output_type": "stream",
     "text": [
      " 02:15:51 AM"
     ]
    }
   ],
   "source": [
    "#Answer 3\n",
    "import time\n",
    "i=5\n",
    "while i!=0:\n",
    "    localtime = time.localtime()\n",
    "    result = time.strftime(\"%I:%M:%S %p\", localtime)\n",
    "    print(\"\\r\",result,end='')\n",
    "    time.sleep(1)\n",
    "    i=i-1"
   ]
  },
  {
   "cell_type": "markdown",
   "metadata": {},
   "source": [
    "Q4. Add anything in tuple.. example: (1,2,3,4) -> new tuple (1,2,3,4,5)"
   ]
  },
  {
   "cell_type": "code",
   "execution_count": 53,
   "metadata": {},
   "outputs": [
    {
     "name": "stdout",
     "output_type": "stream",
     "text": [
      "#Tuple without adding anything=> (1, 2, 3, 4)\n",
      "#Tuple after adding an element=> (1, 2, 3, 4, 5)\n"
     ]
    }
   ],
   "source": [
    "#Answer 4\n",
    "tuple1=(1,2,3,4)\n",
    "print(\"#Tuple without adding anything=>\",tuple1)\n",
    "tuple1=tuple1+(5,)\n",
    "print(\"#Tuple after adding an element=>\",tuple1)\n"
   ]
  },
  {
   "cell_type": "markdown",
   "metadata": {},
   "source": [
    "Q5. WhatsApp texting using webbrowser Lib."
   ]
  },
  {
   "cell_type": "code",
   "execution_count": 52,
   "metadata": {},
   "outputs": [
    {
     "data": {
      "text/plain": [
       "True"
      ]
     },
     "execution_count": 52,
     "metadata": {},
     "output_type": "execute_result"
    }
   ],
   "source": [
    "#Answer 5\n",
    "import webbrowser\n",
    "webbrowser.open_new_tab(\"https://wa.me/911234567890?text=Welcome Message\")"
   ]
  }
 ],
 "metadata": {
  "kernelspec": {
   "display_name": "Python 3",
   "language": "python",
   "name": "python3"
  }
 },
 "nbformat": 4,
 "nbformat_minor": 2
}

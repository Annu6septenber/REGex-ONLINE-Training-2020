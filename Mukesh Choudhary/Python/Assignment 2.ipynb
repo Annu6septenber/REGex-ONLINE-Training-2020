{
 "cells": [
  {
   "cell_type": "markdown",
   "metadata": {},
   "source": [
    "# Assignment 2 Python"
   ]
  },
  {
   "cell_type": "markdown",
   "metadata": {},
   "source": [
    "Q1. Write a Program to print new list which contains all the first Characters of strings present in a list.....\n",
    "    LIST_STATES = [\"GOA\",\"RAJASTHAN\",\"KARNATAKA\",\"GUJRAT\",\"MANIPUR\", \"MADHYA PRADESH\"]"
   ]
  },
  {
   "cell_type": "code",
   "execution_count": 5,
   "metadata": {},
   "outputs": [
    {
     "name": "stdout",
     "output_type": "stream",
     "text": [
      "Output: ['G', 'R', 'K', 'G', 'M', 'M']\n"
     ]
    }
   ],
   "source": [
    "#Answer 1\n",
    "LIST_STATES = ['GOA','RAJASTHAN','KARNATAKA','GUJRAT','MANIPUR','MADHYA PRADESH']\n",
    "output_list = []\n",
    "for i in LIST_STATES:\n",
    "    output_list.append(i[0])\n",
    "print(\"Output:\",output_list)"
   ]
  },
  {
   "cell_type": "markdown",
   "metadata": {},
   "source": [
    "Q2. Write a program to replace each string with an integer value in a given list of strings.\n",
    "    The replacement integer value should be a sum of ASCII values of each character of type corresponding string........\n",
    "    LIST: ['GAnga', 'Tapti', 'Kaveri', 'Yamuna', 'Narmada' ]"
   ]
  },
  {
   "cell_type": "code",
   "execution_count": 1,
   "metadata": {},
   "outputs": [
    {
     "name": "stdout",
     "output_type": "stream",
     "text": [
      "[446, 514, 610, 619, 692]\n"
     ]
    }
   ],
   "source": [
    "#Answer 2\n",
    "GIVEN_LIST=['GAnga', 'Tapti', 'Kaveri', 'Yamuna', 'Narmada' ]\n",
    "sum_list=[]\n",
    "for i in GIVEN_LIST:\n",
    "    sum1=0\n",
    "    for j in i:\n",
    "        sum1 = sum1 + ord(j)\n",
    "    sum_list.append(sum1)\n",
    "print(sum_list)"
   ]
  },
  {
   "cell_type": "markdown",
   "metadata": {},
   "source": [
    "Q3. You have to run your Program at 9:00am. Date: 14th April 2020.\n",
    "    HINT:\n",
    "        You have to use datetime Module or time module..\n",
    "        You have to convert your output in #LIST_FORMAT\n",
    "            [ '2020-04-13' , '17:11:01.952975' ]\n",
    "        you can use this with the helf of IF/Else statement"
   ]
  },
  {
   "cell_type": "code",
   "execution_count": 12,
   "metadata": {},
   "outputs": [
    {
     "name": "stdout",
     "output_type": "stream",
     "text": [
      "Today's date & time:  2020-04-23 01:18:29.934274\n",
      "Date & time one day ago:  2020-04-22 01:18:29.934274\n"
     ]
    }
   ],
   "source": [
    "#Answer 3\n",
    "import time\n",
    "import datetime\n",
    "now1 = datetime.datetime.now()\n",
    "print (\"Today's date & time: \", str(now1))\n",
    "one_day_ago = now1 - datetime.timedelta(days = 1)\n",
    "print('Date & time one day ago: ', one_day_ago)\n"
   ]
  },
  {
   "cell_type": "markdown",
   "metadata": {},
   "source": [
    "Q4. Give a tuple:\n",
    "    tuple = ('a','l','g','o','r','i','t','h','m')\n",
    "        1. Using the concept of slicing, print the whole tuple\n",
    "        2. delete the element at the 3rd Index, print the tuple."
   ]
  },
  {
   "cell_type": "code",
   "execution_count": 20,
   "metadata": {},
   "outputs": [
    {
     "name": "stdout",
     "output_type": "stream",
     "text": [
      "1. Printing the whole tuple using the concept of slicing=> ('a', 'l', 'g', 'o', 'r', 'i', 't', 'h', 'm')\n",
      "1. Printing the tuple after deleting the element at the 3rd index=> ('a', 'l', 'g', 'r', 'i', 't', 'h', 'm')\n"
     ]
    }
   ],
   "source": [
    "#Answer 4\n",
    "tuple1 = ('a','l','g','o','r','i','t','h','m')\n",
    "print(\"1. Printing the whole tuple using the concept of slicing=>\",tuple1[0:])\n",
    "tuple1 = tuple1[0:3]+tuple1[4:]\n",
    "print(\"2. Printing the tuple after deleting the element at the 3rd index=>\",tuple1[0:])"
   ]
  },
  {
   "cell_type": "markdown",
   "metadata": {},
   "source": [
    "Q5. Take a list REGex=[1,2,3,4,5,6,7,8,9,0,77,44,15,33,65,89,12]\n",
    "        - print only those numbers greator then 20\n",
    "        - then print those numbers those are less then 10 or equal to 10\n",
    "        - store these above two list in two different list."
   ]
  },
  {
   "cell_type": "code",
   "execution_count": 42,
   "metadata": {},
   "outputs": [
    {
     "name": "stdout",
     "output_type": "stream",
     "text": [
      "REGex:  [1, 2, 3, 4, 5, 6, 7, 8, 9, 0, 77, 44, 15, 33, 65, 89, 12]\n",
      "#Printing only those numbers greator then 20 in REGex:-\n",
      "77 44 33 65 89 \n",
      "#Printing those numbers which are less then 10 or equal to 10 in REGex:-\n",
      "1 2 3 4 5 6 7 8 9 0 \n",
      "#Store these above two list in two different list\n",
      "First List:  [77, 44, 33, 65, 89]\n",
      "Second List:  [1, 2, 3, 4, 5, 6, 7, 8, 9, 0]\n"
     ]
    }
   ],
   "source": [
    "#Answer 5\n",
    "REGex=[1,2,3,4,5,6,7,8,9,0,77,44,15,33,65,89,12]\n",
    "list1=[]\n",
    "list2=[]\n",
    "#print only those numbers greator then 20\n",
    "print (\"REGex: \" , REGex)\n",
    "print(\"#Printing only those numbers greator then 20 in REGex:-\")\n",
    "for i in REGex:\n",
    "    if (i>20):\n",
    "        list1.append(i)\n",
    "        print(i,end=' ')\n",
    "print(\"\\n#Printing those numbers which are less then 10 or equal to 10 in REGex:-\")\n",
    "for i in REGex:\n",
    "    if (i<10 or i==10):\n",
    "        list2.append(i)\n",
    "        print(i,end=' '),\n",
    "print(\"\\n#Store these above two list in two different list\")\n",
    "print(\"First List: \",list1)\n",
    "print(\"Second List: \",list2)"
   ]
  },
  {
   "cell_type": "markdown",
   "metadata": {},
   "source": [
    "Q6. Execute standard LINUX Commands using Python Programming"
   ]
  },
  {
   "cell_type": "code",
   "execution_count": null,
   "metadata": {},
   "outputs": [],
   "source": [
    "#Answer 6\n",
    "import subprocess \n",
    "import os\n",
    "value1 = 'cat>abc.txt'\n",
    "os.system(value1)\n",
    "os.system(\"start\")\n",
    "os.system(\"date\")"
   ]
  },
  {
   "cell_type": "code",
   "execution_count": null,
   "metadata": {},
   "outputs": [],
   "source": [
    "Q7. Revise *args and **kwargs Concepts"
   ]
  },
  {
   "cell_type": "markdown",
   "metadata": {},
   "source": [
    "Answer 7:\n",
    "\n",
    "There are two special symbols:\n",
    "\n",
    "1) *args (Non Keyword Arguments):\n",
    "Python has *args which allow us to pass the variable number of non keyword arguments to function.\n",
    "The arguments are passed as a tuple and these passed arguments make tuple inside the function with same name as the parameter excluding asterisk *\n",
    "\n",
    "2) **kwargs (Keyword Arguments)\n",
    "Python passes variable length non keyword argument to function using *args but we cannot use this to pass keyword argument\n",
    "In the function, we use the double asterisk ** before the parameter name to denote this type of argument. The arguments are passed as a dictionary and these arguments make a dictionary inside function with name same as the parameter excluding double asterisk \n",
    "\n",
    "We use *args and **kwargs as an argument when we are unsure about the number of arguments to pass in the functions."
   ]
  }
 ],
 "metadata": {
  "celltoolbar": "Raw Cell Format",
  "kernelspec": {
   "display_name": "Python 3",
   "language": "python",
   "name": "python3"
  },
  "language_info": {
   "codemirror_mode": {
    "name": "ipython",
    "version": 3
   },
   "file_extension": ".py",
   "mimetype": "text/x-python",
   "name": "python",
   "nbconvert_exporter": "python",
   "pygments_lexer": "ipython3",
   "version": "3.7.3"
  },
  "widgets": {
   "application/vnd.jupyter.widget-state+json": {
    "state": {},
    "version_major": 2,
    "version_minor": 0
   }
  }
 },
 "nbformat": 4,
 "nbformat_minor": 2
}
